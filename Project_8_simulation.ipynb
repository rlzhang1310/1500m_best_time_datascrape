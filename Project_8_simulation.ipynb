{
 "cells": [
  {
   "cell_type": "code",
   "execution_count": 148,
   "metadata": {},
   "outputs": [],
   "source": [
    "import numpy as np\n",
    "import math"
   ]
  },
  {
   "cell_type": "code",
   "execution_count": 166,
   "metadata": {},
   "outputs": [],
   "source": [
    "# Constants\n",
    "initial_salt_cost = 45  # £ per tonne\n",
    "additional_salt_cost = 86  # £ per tonne during winter season\n",
    "barn_capacity = 2500  # tonnes\n",
    "depreciation_rate = 0.41  # Loss rate for salt left over\n",
    "# Simulation parameters\n",
    "iterations = 10000\n",
    "# Function to simulate winter season and calculate cost\n",
    "def simulate_winter_season(initial_salt_amount, snowfall):\n",
    "    total_cost = 3000\n",
    "    total_cost += initial_salt_cost * initial_salt_amount\n",
    "\n",
    "    if snowfall > initial_salt_amount:\n",
    "        extra = snowfall - initial_salt_amount\n",
    "        total_cost += extra * additional_salt_cost\n",
    "    else:\n",
    "        leftover = initial_salt_amount - snowfall\n",
    "        total_cost -= leftover * (1 - depreciation_rate) * initial_salt_cost\n",
    "    return total_cost\n"
   ]
  },
  {
   "cell_type": "code",
   "execution_count": 168,
   "metadata": {},
   "outputs": [
    {
     "name": "stdout",
     "output_type": "stream",
     "text": [
      "Optimal amount of salt to purchase: 2401 tonnes, costing on average:  110869.01827999999\n"
     ]
    }
   ],
   "source": [
    "def run_simulation(results):    \n",
    "    for _ in range(iterations):\n",
    "        day_mean = 90\n",
    "        day_std = 8.41\n",
    "        days = np.random.normal(day_mean, day_std)\n",
    "        snowfall = -1481 + 650 * 3.089 + 19.92 * days\n",
    "        snowfall = round(snowfall)\n",
    "        \n",
    "        for initial_salt_amount in range(1500, 2501):\n",
    "            cost = simulate_winter_season(initial_salt_amount, snowfall)\n",
    "            if initial_salt_amount not in results:\n",
    "                results[initial_salt_amount] = []\n",
    "            results[initial_salt_amount].append(cost)\n",
    "    \n",
    "    average_costs = {salt_amount: np.mean(costs) for salt_amount, costs in results.items()}    \n",
    "    optimal_salt_amount = min(average_costs, key=average_costs.get)\n",
    "    return optimal_salt_amount\n",
    "\n",
    "\n",
    "results = dict()\n",
    "optimal_salt_amount = run_simulation(results)\n",
    "print(\"Optimal amount of salt to purchase:\", optimal_salt_amount, \"tonnes, costing on average: \", np.mean(results[optimal_salt_amount]))\n"
   ]
  }
 ],
 "metadata": {
  "kernelspec": {
   "display_name": "Python 3",
   "language": "python",
   "name": "python3"
  },
  "language_info": {
   "codemirror_mode": {
    "name": "ipython",
    "version": 3
   },
   "file_extension": ".py",
   "mimetype": "text/x-python",
   "name": "python",
   "nbconvert_exporter": "python",
   "pygments_lexer": "ipython3",
   "version": "3.9.6"
  }
 },
 "nbformat": 4,
 "nbformat_minor": 2
}
